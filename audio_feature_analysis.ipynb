{
 "cells": [
  {
   "cell_type": "code",
   "execution_count": 226,
   "metadata": {
    "ExecuteTime": {
     "end_time": "2019-11-23T02:21:41.901659Z",
     "start_time": "2019-11-23T02:21:41.869151Z"
    }
   },
   "outputs": [],
   "source": [
    "import pandas as pd\n",
    "import numpy as np\n",
    "import spotipy \n",
    "import os\n",
    "import json\n",
    "import seaborn as sns\n",
    "\n",
    "from matplotlib import pyplot as plt\n",
    "from spotipy.oauth2 import SpotifyClientCredentials"
   ]
  },
  {
   "cell_type": "code",
   "execution_count": 198,
   "metadata": {
    "ExecuteTime": {
     "end_time": "2019-11-23T02:12:18.945961Z",
     "start_time": "2019-11-23T02:12:18.934597Z"
    }
   },
   "outputs": [],
   "source": [
    "client_id = os.environ[\"SPOTIPY_CLIENT_ID\"]\n",
    "client_secret = os.environ[\"SPOTIPY_CLIENT_SECRET\"]\n",
    "client_credentials_manager = SpotifyClientCredentials(client_id=client_id, client_secret=client_secret)"
   ]
  },
  {
   "cell_type": "code",
   "execution_count": 199,
   "metadata": {
    "ExecuteTime": {
     "end_time": "2019-11-23T02:12:19.115927Z",
     "start_time": "2019-11-23T02:12:19.108501Z"
    }
   },
   "outputs": [],
   "source": [
    "sp = spotipy.Spotify(client_credentials_manager=client_credentials_manager)"
   ]
  },
  {
   "cell_type": "code",
   "execution_count": 200,
   "metadata": {
    "ExecuteTime": {
     "end_time": "2019-11-23T02:12:19.292591Z",
     "start_time": "2019-11-23T02:12:19.281085Z"
    }
   },
   "outputs": [],
   "source": [
    "class Dataset:\n",
    "    def __init__(self, name):\n",
    "        self.name = name\n",
    "        self.features = []\n",
    "        self.tracks = []"
   ]
  },
  {
   "cell_type": "code",
   "execution_count": 201,
   "metadata": {
    "ExecuteTime": {
     "end_time": "2019-11-23T02:12:19.456338Z",
     "start_time": "2019-11-23T02:12:19.449039Z"
    }
   },
   "outputs": [],
   "source": [
    "indie = Dataset(name=\"IndieNesia\")\n",
    "rossa = Dataset(name=\"Rossa - Yang Terpilih\")"
   ]
  },
  {
   "cell_type": "markdown",
   "metadata": {},
   "source": [
    "## Read Artists' and Songs' Name"
   ]
  },
  {
   "cell_type": "code",
   "execution_count": 202,
   "metadata": {
    "ExecuteTime": {
     "end_time": "2019-11-23T02:12:19.837949Z",
     "start_time": "2019-11-23T02:12:19.823214Z"
    }
   },
   "outputs": [],
   "source": [
    "with open(\"data/indie_tracks.json\", mode=\"r\") as f:\n",
    "    indie.tracks = json.load(f)\n",
    "\n",
    "with open(\"data/rossa_tracks.json\", mode=\"r\") as f:\n",
    "    rossa.tracks = json.load(f)"
   ]
  },
  {
   "cell_type": "code",
   "execution_count": 203,
   "metadata": {
    "ExecuteTime": {
     "end_time": "2019-11-23T02:12:19.997968Z",
     "start_time": "2019-11-23T02:12:19.984763Z"
    },
    "scrolled": false
   },
   "outputs": [],
   "source": [
    "tracks_list = []\n",
    "\n",
    "for track in indie.tracks['tracks']['items']:\n",
    "    track_to_insert = {}\n",
    "    track_to_insert[\"artist_name\"] = track[\"track\"]['artists'][0]['name']\n",
    "    track_to_insert[\"track_name\"] = track[\"track\"]['name']\n",
    "    track_to_insert[\"uri\"] = track[\"track\"]['uri']\n",
    "    tracks_list.append(track_to_insert)\n",
    "    \n",
    "indie.df_tracks = pd.DataFrame(tracks_list)"
   ]
  },
  {
   "cell_type": "code",
   "execution_count": 204,
   "metadata": {
    "ExecuteTime": {
     "end_time": "2019-11-23T02:12:20.199064Z",
     "start_time": "2019-11-23T02:12:20.191506Z"
    }
   },
   "outputs": [],
   "source": [
    "tracks_list = []\n",
    "\n",
    "for track in rossa.tracks['tracks']['items']:\n",
    "    track_to_insert = {}\n",
    "    track_to_insert[\"artist_name\"] = track['artists'][0]['name']\n",
    "    track_to_insert[\"track_name\"] = track['name']\n",
    "    track_to_insert[\"uri\"] = track['uri']\n",
    "    tracks_list.append(track_to_insert)\n",
    "    \n",
    "rossa.df_tracks = pd.DataFrame(tracks_list)"
   ]
  },
  {
   "cell_type": "markdown",
   "metadata": {},
   "source": [
    "## Read Audio Features"
   ]
  },
  {
   "cell_type": "code",
   "execution_count": 205,
   "metadata": {
    "ExecuteTime": {
     "end_time": "2019-11-23T02:12:20.541880Z",
     "start_time": "2019-11-23T02:12:20.529127Z"
    }
   },
   "outputs": [],
   "source": [
    "with open(\"data/indie_audio_features.json\", mode=\"r\") as f:\n",
    "    indie.features = json.load(f)\n",
    "\n",
    "with open(\"data/rossa_audio_features.json\", mode=\"r\") as f:\n",
    "    rossa.features = json.load(f)"
   ]
  },
  {
   "cell_type": "code",
   "execution_count": 206,
   "metadata": {
    "ExecuteTime": {
     "end_time": "2019-11-23T02:12:20.714530Z",
     "start_time": "2019-11-23T02:12:20.708076Z"
    }
   },
   "outputs": [],
   "source": [
    "features_columns_to_drop = [\"id\", \"track_href\", \"analysis_url\", \"type\"]"
   ]
  },
  {
   "cell_type": "code",
   "execution_count": 207,
   "metadata": {
    "ExecuteTime": {
     "end_time": "2019-11-23T02:12:20.931038Z",
     "start_time": "2019-11-23T02:12:20.915823Z"
    }
   },
   "outputs": [
    {
     "data": {
      "text/plain": [
       "Index(['acousticness', 'danceability', 'duration_ms', 'energy',\n",
       "       'instrumentalness', 'key', 'liveness', 'loudness', 'mode',\n",
       "       'speechiness', 'tempo', 'time_signature', 'uri', 'valence'],\n",
       "      dtype='object')"
      ]
     },
     "execution_count": 207,
     "metadata": {},
     "output_type": "execute_result"
    }
   ],
   "source": [
    "indie.df_features = pd.DataFrame(indie.features).drop(columns=features_columns_to_drop)\n",
    "indie.df_features.columns"
   ]
  },
  {
   "cell_type": "code",
   "execution_count": 208,
   "metadata": {
    "ExecuteTime": {
     "end_time": "2019-11-23T02:12:21.155484Z",
     "start_time": "2019-11-23T02:12:21.129920Z"
    }
   },
   "outputs": [
    {
     "data": {
      "text/plain": [
       "Index(['acousticness', 'danceability', 'duration_ms', 'energy',\n",
       "       'instrumentalness', 'key', 'liveness', 'loudness', 'mode',\n",
       "       'speechiness', 'tempo', 'time_signature', 'uri', 'valence'],\n",
       "      dtype='object')"
      ]
     },
     "execution_count": 208,
     "metadata": {},
     "output_type": "execute_result"
    }
   ],
   "source": [
    "rossa.df_features = pd.DataFrame(rossa.features).drop(columns=features_columns_to_drop)\n",
    "rossa.df_features.columns"
   ]
  },
  {
   "cell_type": "markdown",
   "metadata": {},
   "source": [
    "## Merge Tracks and Features"
   ]
  },
  {
   "cell_type": "code",
   "execution_count": 209,
   "metadata": {
    "ExecuteTime": {
     "end_time": "2019-11-23T02:12:21.894583Z",
     "start_time": "2019-11-23T02:12:21.876655Z"
    }
   },
   "outputs": [],
   "source": [
    "indie.df = indie.df_tracks.merge(right=indie.df_features, how=\"inner\", on=\"uri\")\n",
    "rossa.df = rossa.df_tracks.merge(right=rossa.df_features, how=\"inner\", on=\"uri\")"
   ]
  },
  {
   "cell_type": "code",
   "execution_count": 210,
   "metadata": {
    "ExecuteTime": {
     "end_time": "2019-11-23T02:12:22.173961Z",
     "start_time": "2019-11-23T02:12:22.134597Z"
    }
   },
   "outputs": [
    {
     "data": {
      "text/html": [
       "<div>\n",
       "<style scoped>\n",
       "    .dataframe tbody tr th:only-of-type {\n",
       "        vertical-align: middle;\n",
       "    }\n",
       "\n",
       "    .dataframe tbody tr th {\n",
       "        vertical-align: top;\n",
       "    }\n",
       "\n",
       "    .dataframe thead th {\n",
       "        text-align: right;\n",
       "    }\n",
       "</style>\n",
       "<table border=\"1\" class=\"dataframe\">\n",
       "  <thead>\n",
       "    <tr style=\"text-align: right;\">\n",
       "      <th></th>\n",
       "      <th>artist_name</th>\n",
       "      <th>track_name</th>\n",
       "      <th>uri</th>\n",
       "      <th>acousticness</th>\n",
       "      <th>danceability</th>\n",
       "      <th>duration_ms</th>\n",
       "      <th>energy</th>\n",
       "      <th>instrumentalness</th>\n",
       "      <th>key</th>\n",
       "      <th>liveness</th>\n",
       "      <th>loudness</th>\n",
       "      <th>mode</th>\n",
       "      <th>speechiness</th>\n",
       "      <th>tempo</th>\n",
       "      <th>time_signature</th>\n",
       "      <th>valence</th>\n",
       "    </tr>\n",
       "  </thead>\n",
       "  <tbody>\n",
       "    <tr>\n",
       "      <th>0</th>\n",
       "      <td>Banda Neira</td>\n",
       "      <td>Sampai Jadi Debu (Menampilkan Gardika Gigih)</td>\n",
       "      <td>spotify:track:0ROj512WvJ1eqeELd7MEdJ</td>\n",
       "      <td>0.9850</td>\n",
       "      <td>0.412</td>\n",
       "      <td>408288</td>\n",
       "      <td>0.108</td>\n",
       "      <td>0.070900</td>\n",
       "      <td>2</td>\n",
       "      <td>0.0836</td>\n",
       "      <td>-18.295</td>\n",
       "      <td>1</td>\n",
       "      <td>0.0484</td>\n",
       "      <td>97.448</td>\n",
       "      <td>4</td>\n",
       "      <td>0.141</td>\n",
       "    </tr>\n",
       "    <tr>\n",
       "      <th>1</th>\n",
       "      <td>Aya Anjani</td>\n",
       "      <td>Meredam</td>\n",
       "      <td>spotify:track:0WY2cPYu4Vpdl1ZwFvYs0n</td>\n",
       "      <td>0.6960</td>\n",
       "      <td>0.527</td>\n",
       "      <td>194873</td>\n",
       "      <td>0.485</td>\n",
       "      <td>0.020700</td>\n",
       "      <td>8</td>\n",
       "      <td>0.1090</td>\n",
       "      <td>-8.174</td>\n",
       "      <td>1</td>\n",
       "      <td>0.0442</td>\n",
       "      <td>190.002</td>\n",
       "      <td>4</td>\n",
       "      <td>0.436</td>\n",
       "    </tr>\n",
       "    <tr>\n",
       "      <th>2</th>\n",
       "      <td>Petra Sihombing</td>\n",
       "      <td>Biji</td>\n",
       "      <td>spotify:track:4EFPLSlS4BXNUFTaxeKOb9</td>\n",
       "      <td>0.6180</td>\n",
       "      <td>0.727</td>\n",
       "      <td>184833</td>\n",
       "      <td>0.475</td>\n",
       "      <td>0.013600</td>\n",
       "      <td>5</td>\n",
       "      <td>0.3010</td>\n",
       "      <td>-8.926</td>\n",
       "      <td>1</td>\n",
       "      <td>0.0282</td>\n",
       "      <td>85.003</td>\n",
       "      <td>4</td>\n",
       "      <td>0.748</td>\n",
       "    </tr>\n",
       "    <tr>\n",
       "      <th>3</th>\n",
       "      <td>Hindia</td>\n",
       "      <td>Apapun Yang Terjadi</td>\n",
       "      <td>spotify:track:0Z249BwDLHqBjed3GkVJos</td>\n",
       "      <td>0.0419</td>\n",
       "      <td>0.785</td>\n",
       "      <td>229000</td>\n",
       "      <td>0.481</td>\n",
       "      <td>0.000467</td>\n",
       "      <td>0</td>\n",
       "      <td>0.1360</td>\n",
       "      <td>-7.540</td>\n",
       "      <td>1</td>\n",
       "      <td>0.0315</td>\n",
       "      <td>93.998</td>\n",
       "      <td>4</td>\n",
       "      <td>0.689</td>\n",
       "    </tr>\n",
       "    <tr>\n",
       "      <th>4</th>\n",
       "      <td>Sisitipsi</td>\n",
       "      <td>Alkohol</td>\n",
       "      <td>spotify:track:0j6kSxICIu1wV9jNyS0qsn</td>\n",
       "      <td>0.2920</td>\n",
       "      <td>0.667</td>\n",
       "      <td>262400</td>\n",
       "      <td>0.540</td>\n",
       "      <td>0.000501</td>\n",
       "      <td>1</td>\n",
       "      <td>0.1080</td>\n",
       "      <td>-9.265</td>\n",
       "      <td>0</td>\n",
       "      <td>0.0333</td>\n",
       "      <td>110.001</td>\n",
       "      <td>4</td>\n",
       "      <td>0.412</td>\n",
       "    </tr>\n",
       "  </tbody>\n",
       "</table>\n",
       "</div>"
      ],
      "text/plain": [
       "       artist_name                                    track_name  \\\n",
       "0      Banda Neira  Sampai Jadi Debu (Menampilkan Gardika Gigih)   \n",
       "1       Aya Anjani                                       Meredam   \n",
       "2  Petra Sihombing                                          Biji   \n",
       "3           Hindia                           Apapun Yang Terjadi   \n",
       "4        Sisitipsi                                       Alkohol   \n",
       "\n",
       "                                    uri  acousticness  danceability  \\\n",
       "0  spotify:track:0ROj512WvJ1eqeELd7MEdJ        0.9850         0.412   \n",
       "1  spotify:track:0WY2cPYu4Vpdl1ZwFvYs0n        0.6960         0.527   \n",
       "2  spotify:track:4EFPLSlS4BXNUFTaxeKOb9        0.6180         0.727   \n",
       "3  spotify:track:0Z249BwDLHqBjed3GkVJos        0.0419         0.785   \n",
       "4  spotify:track:0j6kSxICIu1wV9jNyS0qsn        0.2920         0.667   \n",
       "\n",
       "   duration_ms  energy  instrumentalness  key  liveness  loudness  mode  \\\n",
       "0       408288   0.108          0.070900    2    0.0836   -18.295     1   \n",
       "1       194873   0.485          0.020700    8    0.1090    -8.174     1   \n",
       "2       184833   0.475          0.013600    5    0.3010    -8.926     1   \n",
       "3       229000   0.481          0.000467    0    0.1360    -7.540     1   \n",
       "4       262400   0.540          0.000501    1    0.1080    -9.265     0   \n",
       "\n",
       "   speechiness    tempo  time_signature  valence  \n",
       "0       0.0484   97.448               4    0.141  \n",
       "1       0.0442  190.002               4    0.436  \n",
       "2       0.0282   85.003               4    0.748  \n",
       "3       0.0315   93.998               4    0.689  \n",
       "4       0.0333  110.001               4    0.412  "
      ]
     },
     "execution_count": 210,
     "metadata": {},
     "output_type": "execute_result"
    }
   ],
   "source": [
    "indie.df.head()"
   ]
  },
  {
   "cell_type": "code",
   "execution_count": 211,
   "metadata": {
    "ExecuteTime": {
     "end_time": "2019-11-23T02:12:22.755184Z",
     "start_time": "2019-11-23T02:12:22.710751Z"
    },
    "scrolled": true
   },
   "outputs": [
    {
     "data": {
      "text/html": [
       "<div>\n",
       "<style scoped>\n",
       "    .dataframe tbody tr th:only-of-type {\n",
       "        vertical-align: middle;\n",
       "    }\n",
       "\n",
       "    .dataframe tbody tr th {\n",
       "        vertical-align: top;\n",
       "    }\n",
       "\n",
       "    .dataframe thead th {\n",
       "        text-align: right;\n",
       "    }\n",
       "</style>\n",
       "<table border=\"1\" class=\"dataframe\">\n",
       "  <thead>\n",
       "    <tr style=\"text-align: right;\">\n",
       "      <th></th>\n",
       "      <th>artist_name</th>\n",
       "      <th>track_name</th>\n",
       "      <th>uri</th>\n",
       "      <th>acousticness</th>\n",
       "      <th>danceability</th>\n",
       "      <th>duration_ms</th>\n",
       "      <th>energy</th>\n",
       "      <th>instrumentalness</th>\n",
       "      <th>key</th>\n",
       "      <th>liveness</th>\n",
       "      <th>loudness</th>\n",
       "      <th>mode</th>\n",
       "      <th>speechiness</th>\n",
       "      <th>tempo</th>\n",
       "      <th>time_signature</th>\n",
       "      <th>valence</th>\n",
       "    </tr>\n",
       "  </thead>\n",
       "  <tbody>\n",
       "    <tr>\n",
       "      <th>0</th>\n",
       "      <td>Rossa</td>\n",
       "      <td>Terlalu Cinta</td>\n",
       "      <td>spotify:track:6I9rJKR6WPRir6XoAaaJvH</td>\n",
       "      <td>0.815</td>\n",
       "      <td>0.400</td>\n",
       "      <td>248133</td>\n",
       "      <td>0.406</td>\n",
       "      <td>0.000002</td>\n",
       "      <td>8</td>\n",
       "      <td>0.108</td>\n",
       "      <td>-5.668</td>\n",
       "      <td>1</td>\n",
       "      <td>0.0350</td>\n",
       "      <td>118.892</td>\n",
       "      <td>3</td>\n",
       "      <td>0.377</td>\n",
       "    </tr>\n",
       "    <tr>\n",
       "      <th>1</th>\n",
       "      <td>Rossa</td>\n",
       "      <td>Atas Nama Cinta</td>\n",
       "      <td>spotify:track:5vkmkOfrrAGHbGZp2WMDu6</td>\n",
       "      <td>0.866</td>\n",
       "      <td>0.352</td>\n",
       "      <td>243493</td>\n",
       "      <td>0.399</td>\n",
       "      <td>0.000006</td>\n",
       "      <td>4</td>\n",
       "      <td>0.107</td>\n",
       "      <td>-7.066</td>\n",
       "      <td>1</td>\n",
       "      <td>0.0288</td>\n",
       "      <td>90.681</td>\n",
       "      <td>4</td>\n",
       "      <td>0.141</td>\n",
       "    </tr>\n",
       "    <tr>\n",
       "      <th>2</th>\n",
       "      <td>Rossa</td>\n",
       "      <td>Tak Termiliki</td>\n",
       "      <td>spotify:track:14s50BeRDUrEYaHElq8fFT</td>\n",
       "      <td>0.734</td>\n",
       "      <td>0.540</td>\n",
       "      <td>215413</td>\n",
       "      <td>0.391</td>\n",
       "      <td>0.000089</td>\n",
       "      <td>9</td>\n",
       "      <td>0.309</td>\n",
       "      <td>-7.377</td>\n",
       "      <td>1</td>\n",
       "      <td>0.0262</td>\n",
       "      <td>109.810</td>\n",
       "      <td>4</td>\n",
       "      <td>0.289</td>\n",
       "    </tr>\n",
       "    <tr>\n",
       "      <th>3</th>\n",
       "      <td>Rossa</td>\n",
       "      <td>Pudar - New Version</td>\n",
       "      <td>spotify:track:6vNafdjmcePQb2j5A6JmM5</td>\n",
       "      <td>0.627</td>\n",
       "      <td>0.629</td>\n",
       "      <td>191773</td>\n",
       "      <td>0.872</td>\n",
       "      <td>0.000003</td>\n",
       "      <td>7</td>\n",
       "      <td>0.238</td>\n",
       "      <td>-3.984</td>\n",
       "      <td>1</td>\n",
       "      <td>0.0640</td>\n",
       "      <td>139.982</td>\n",
       "      <td>4</td>\n",
       "      <td>0.865</td>\n",
       "    </tr>\n",
       "    <tr>\n",
       "      <th>4</th>\n",
       "      <td>Rossa</td>\n",
       "      <td>Perawan Cinta</td>\n",
       "      <td>spotify:track:2qqVQGorWfFkp9lM9jA7w0</td>\n",
       "      <td>0.777</td>\n",
       "      <td>0.543</td>\n",
       "      <td>248347</td>\n",
       "      <td>0.447</td>\n",
       "      <td>0.000318</td>\n",
       "      <td>2</td>\n",
       "      <td>0.143</td>\n",
       "      <td>-7.815</td>\n",
       "      <td>0</td>\n",
       "      <td>0.0268</td>\n",
       "      <td>76.921</td>\n",
       "      <td>4</td>\n",
       "      <td>0.268</td>\n",
       "    </tr>\n",
       "  </tbody>\n",
       "</table>\n",
       "</div>"
      ],
      "text/plain": [
       "  artist_name           track_name                                   uri  \\\n",
       "0       Rossa        Terlalu Cinta  spotify:track:6I9rJKR6WPRir6XoAaaJvH   \n",
       "1       Rossa      Atas Nama Cinta  spotify:track:5vkmkOfrrAGHbGZp2WMDu6   \n",
       "2       Rossa        Tak Termiliki  spotify:track:14s50BeRDUrEYaHElq8fFT   \n",
       "3       Rossa  Pudar - New Version  spotify:track:6vNafdjmcePQb2j5A6JmM5   \n",
       "4       Rossa        Perawan Cinta  spotify:track:2qqVQGorWfFkp9lM9jA7w0   \n",
       "\n",
       "   acousticness  danceability  duration_ms  energy  instrumentalness  key  \\\n",
       "0         0.815         0.400       248133   0.406          0.000002    8   \n",
       "1         0.866         0.352       243493   0.399          0.000006    4   \n",
       "2         0.734         0.540       215413   0.391          0.000089    9   \n",
       "3         0.627         0.629       191773   0.872          0.000003    7   \n",
       "4         0.777         0.543       248347   0.447          0.000318    2   \n",
       "\n",
       "   liveness  loudness  mode  speechiness    tempo  time_signature  valence  \n",
       "0     0.108    -5.668     1       0.0350  118.892               3    0.377  \n",
       "1     0.107    -7.066     1       0.0288   90.681               4    0.141  \n",
       "2     0.309    -7.377     1       0.0262  109.810               4    0.289  \n",
       "3     0.238    -3.984     1       0.0640  139.982               4    0.865  \n",
       "4     0.143    -7.815     0       0.0268   76.921               4    0.268  "
      ]
     },
     "execution_count": 211,
     "metadata": {},
     "output_type": "execute_result"
    }
   ],
   "source": [
    "rossa.df.head()"
   ]
  },
  {
   "cell_type": "markdown",
   "metadata": {},
   "source": [
    "## Visualisation"
   ]
  },
  {
   "cell_type": "code",
   "execution_count": 236,
   "metadata": {
    "ExecuteTime": {
     "end_time": "2019-11-23T02:25:43.015664Z",
     "start_time": "2019-11-23T02:25:42.561829Z"
    }
   },
   "outputs": [
    {
     "name": "stdout",
     "output_type": "stream",
     "text": [
      "IndieNesia std: 0.33801716387232217\n",
      "Rossa - Yang Terpilih std: 0.20979194017708427\n"
     ]
    },
    {
     "data": {
      "image/png": "[encoded data removed]",
      "text/plain": [
       "<Figure size 648x360 with 1 Axes>"
      ]
     },
     "metadata": {
      "needs_background": "light"
     },
     "output_type": "display_data"
    }
   ],
   "source": [
    "plt.subplots(figsize=(9, 5))\n",
    "sns.distplot(a=indie.df[\"acousticness\"], label=indie.name)\n",
    "sns.distplot(a=rossa.df[\"acousticness\"], label=rossa.name)\n",
    "plt.legend()\n",
    "\n",
    "print(\"IndieNesia std: {}\".format(np.std(indie.df[\"acousticness\"])))\n",
    "print(\"Rossa - Yang Terpilih std: {}\".format(np.std(rossa.df[\"acousticness\"])))"
   ]
  },
  {
   "cell_type": "code",
   "execution_count": 222,
   "metadata": {
    "ExecuteTime": {
     "end_time": "2019-11-23T02:18:22.938998Z",
     "start_time": "2019-11-23T02:18:22.303606Z"
    },
    "scrolled": true
   },
   "outputs": [
    {
     "data": {
      "text/plain": [
       "<matplotlib.legend.Legend at 0x11f890048>"
      ]
     },
     "execution_count": 222,
     "metadata": {},
     "output_type": "execute_result"
    },
    {
     "data": {
      "image/png": "[encoded data removed]",
      "text/plain": [
       "<Figure size 648x360 with 1 Axes>"
      ]
     },
     "metadata": {
      "needs_background": "light"
     },
     "output_type": "display_data"
    }
   ],
   "source": [
    "plt.subplots(figsize=(9, 5))\n",
    "sns.distplot(a=indie.df[\"energy\"], label=indie.name)\n",
    "sns.distplot(a=rossa.df[\"energy\"], label=rossa.name)\n",
    "plt.legend()"
   ]
  },
  {
   "cell_type": "code",
   "execution_count": 223,
   "metadata": {
    "ExecuteTime": {
     "end_time": "2019-11-23T02:18:23.638640Z",
     "start_time": "2019-11-23T02:18:23.053904Z"
    },
    "scrolled": true
   },
   "outputs": [
    {
     "data": {
      "text/plain": [
       "<matplotlib.legend.Legend at 0x11fa23940>"
      ]
     },
     "execution_count": 223,
     "metadata": {},
     "output_type": "execute_result"
    },
    {
     "data": {
      "image/png": "[encoded data removed]",
      "text/plain": [
       "<Figure size 648x360 with 1 Axes>"
      ]
     },
     "metadata": {
      "needs_background": "light"
     },
     "output_type": "display_data"
    }
   ],
   "source": [
    "plt.subplots(figsize=(9, 5))\n",
    "sns.distplot(a=indie.df[\"speechiness\"], label=indie.name)\n",
    "sns.distplot(a=rossa.df[\"speechiness\"], label=rossa.name)\n",
    "plt.legend()"
   ]
  },
  {
   "cell_type": "code",
   "execution_count": 224,
   "metadata": {
    "ExecuteTime": {
     "end_time": "2019-11-23T02:18:24.306333Z",
     "start_time": "2019-11-23T02:18:23.708138Z"
    }
   },
   "outputs": [
    {
     "data": {
      "text/plain": [
       "<matplotlib.legend.Legend at 0x11fa23e10>"
      ]
     },
     "execution_count": 224,
     "metadata": {},
     "output_type": "execute_result"
    },
    {
     "data": {
      "image/png": "[encoded data removed]",
      "text/plain": [
       "<Figure size 648x360 with 1 Axes>"
      ]
     },
     "metadata": {
      "needs_background": "light"
     },
     "output_type": "display_data"
    }
   ],
   "source": [
    "plt.subplots(figsize=(9, 5))\n",
    "sns.distplot(a=indie.df[\"tempo\"], label=indie.name)\n",
    "sns.distplot(a=rossa.df[\"tempo\"], label=rossa.name)\n",
    "plt.legend()"
   ]
  },
  {
   "cell_type": "code",
   "execution_count": 225,
   "metadata": {
    "ExecuteTime": {
     "end_time": "2019-11-23T02:18:25.019539Z",
     "start_time": "2019-11-23T02:18:24.426538Z"
    },
    "scrolled": true
   },
   "outputs": [
    {
     "data": {
      "text/plain": [
       "<matplotlib.legend.Legend at 0x11fd29ba8>"
      ]
     },
     "execution_count": 225,
     "metadata": {},
     "output_type": "execute_result"
    },
    {
     "data": {
      "image/png": "[encoded data removed]",
      "text/plain": [
       "<Figure size 648x360 with 1 Axes>"
      ]
     },
     "metadata": {
      "needs_background": "light"
     },
     "output_type": "display_data"
    }
   ],
   "source": [
    "plt.subplots(figsize=(9, 5))\n",
    "sns.distplot(a=indie.df[\"valence\"], label=indie.name)\n",
    "sns.distplot(a=rossa.df[\"valence\"], label=rossa.name)\n",
    "plt.legend()"
   ]
  }
 ],
 "metadata": {
  "kernelspec": {
   "display_name": "Python 3",
   "language": "python",
   "name": "python3"
  },
  "language_info": {
   "codemirror_mode": {
    "name": "ipython",
    "version": 3
   },
   "file_extension": ".py",
   "mimetype": "text/x-python",
   "name": "python",
   "nbconvert_exporter": "python",
   "pygments_lexer": "ipython3",
   "version": "3.7.3"
  },
  "varInspector": {
   "cols": {
    "lenName": 16,
    "lenType": 16,
    "lenVar": 40
   },
   "kernels_config": {
    "python": {
     "delete_cmd_postfix": "",
     "delete_cmd_prefix": "del ",
     "library": "var_list.py",
     "varRefreshCmd": "print(var_dic_list())"
    },
    "r": {
     "delete_cmd_postfix": ") ",
     "delete_cmd_prefix": "rm(",
     "library": "var_list.r",
     "varRefreshCmd": "cat(var_dic_list()) "
    }
   },
   "types_to_exclude": [
    "module",
    "function",
    "builtin_function_or_method",
    "instance",
    "_Feature"
   ],
   "window_display": false
  }
 },
 "nbformat": 4,
 "nbformat_minor": 2
}
