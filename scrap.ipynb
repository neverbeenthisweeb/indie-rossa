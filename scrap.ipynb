{
 "cells": [
  {
   "cell_type": "code",
   "execution_count": 7,
   "metadata": {
    "ExecuteTime": {
     "end_time": "2019-11-22T23:25:37.813372Z",
     "start_time": "2019-11-22T23:25:37.807809Z"
    }
   },
   "outputs": [],
   "source": [
    "import pandas as pd\n",
    "import spotipy\n",
    "import os\n",
    "import json\n",
    "\n",
    "from spotipy.oauth2 import SpotifyClientCredentials"
   ]
  },
  {
   "cell_type": "code",
   "execution_count": 8,
   "metadata": {
    "ExecuteTime": {
     "end_time": "2019-11-22T23:25:38.032461Z",
     "start_time": "2019-11-22T23:25:38.027953Z"
    }
   },
   "outputs": [],
   "source": [
    "client_id = os.environ['SPOTIPY_CLIENT_ID']\n",
    "client_secret = os.environ['SPOTIPY_CLIENT_SECRET']\n",
    "client_credentials_manager = SpotifyClientCredentials(client_id=client_id, client_secret=client_secret)"
   ]
  },
  {
   "cell_type": "code",
   "execution_count": 9,
   "metadata": {
    "ExecuteTime": {
     "end_time": "2019-11-22T23:25:38.312357Z",
     "start_time": "2019-11-22T23:25:38.306249Z"
    }
   },
   "outputs": [],
   "source": [
    "sp = spotipy.Spotify(client_credentials_manager=client_credentials_manager)"
   ]
  },
  {
   "cell_type": "code",
   "execution_count": 55,
   "metadata": {
    "ExecuteTime": {
     "end_time": "2019-11-23T02:48:42.777384Z",
     "start_time": "2019-11-23T02:48:42.768164Z"
    }
   },
   "outputs": [],
   "source": [
    "class Playlist:\n",
    "    def __init__(self, name, uri):\n",
    "        self.name = name\n",
    "        self.uri = uri\n",
    "        self.user = uri.split(':')[0]\n",
    "        self.id = uri.split(':')[2]\n",
    "        self.track_ids = []\n",
    "    \n",
    "    @staticmethod\n",
    "    def get_track_ids(item):\n",
    "        return item['track']['id']\n",
    "        \n",
    "        \n",
    "class Album:\n",
    "    def __init__(self, name, uri):\n",
    "        self.name = name\n",
    "        self.uri = uri\n",
    "        self.user = uri.split(':')[0]\n",
    "        self.id = uri.split(':')[2]\n",
    "        self.track_ids = []\n",
    "        \n",
    "    @staticmethod\n",
    "    def get_track_ids(item):\n",
    "        return item['id']"
   ]
  },
  {
   "cell_type": "code",
   "execution_count": 56,
   "metadata": {
    "ExecuteTime": {
     "end_time": "2019-11-23T02:48:42.971095Z",
     "start_time": "2019-11-23T02:48:42.963655Z"
    }
   },
   "outputs": [],
   "source": [
    "indie = Playlist(name=\"IndieNesia\", uri=\"spotify:playlist:37i9dQZF1DXd82NU5rAcTZ\")\n",
    "rossa = Album(name=\"Yang Terpilih\", uri=\"spotify:album:4ZoR00UkfBdVlP6RB7vq5A\")"
   ]
  },
  {
   "cell_type": "code",
   "execution_count": 57,
   "metadata": {
    "ExecuteTime": {
     "end_time": "2019-11-23T02:48:44.270695Z",
     "start_time": "2019-11-23T02:48:43.359500Z"
    }
   },
   "outputs": [],
   "source": [
    "indie.results = sp.user_playlist(user=indie.user, playlist_id=indie.id)\n",
    "rossa.results = sp.album(album_id=rossa.id)"
   ]
  },
  {
   "cell_type": "markdown",
   "metadata": {},
   "source": [
    "## Get Tracks Data"
   ]
  },
  {
   "cell_type": "code",
   "execution_count": 58,
   "metadata": {
    "ExecuteTime": {
     "end_time": "2019-11-23T02:48:44.352461Z",
     "start_time": "2019-11-23T02:48:44.310324Z"
    }
   },
   "outputs": [],
   "source": [
    "with open(file=\"data/indie_tracks.json\", mode=\"w\") as f:\n",
    "    f.write(json.dumps(obj=indie.results, indent=4, sort_keys=True))"
   ]
  },
  {
   "cell_type": "code",
   "execution_count": 59,
   "metadata": {
    "ExecuteTime": {
     "end_time": "2019-11-23T02:48:44.424093Z",
     "start_time": "2019-11-23T02:48:44.408225Z"
    }
   },
   "outputs": [],
   "source": [
    "with open(file=\"data/rossa_tracks.json\", mode=\"w\") as f:\n",
    "    f.write(json.dumps(obj=rossa.results, indent=4, sort_keys=True))"
   ]
  },
  {
   "cell_type": "markdown",
   "metadata": {},
   "source": [
    "## Get Audio Features"
   ]
  },
  {
   "cell_type": "code",
   "execution_count": 61,
   "metadata": {
    "ExecuteTime": {
     "end_time": "2019-11-23T02:49:06.080808Z",
     "start_time": "2019-11-23T02:49:06.073675Z"
    }
   },
   "outputs": [],
   "source": [
    "indie.track_ids = []\n",
    "rossa.track_ids = []\n",
    "\n",
    "for item in indie.results['tracks']['items']:\n",
    "    indie.track_ids.append(indie.get_track_ids(item=item))\n",
    "\n",
    "for item in rossa.results['tracks']['items']:\n",
    "    rossa.track_ids.append(rossa.get_track_ids(item=item))"
   ]
  },
  {
   "cell_type": "code",
   "execution_count": 62,
   "metadata": {
    "ExecuteTime": {
     "end_time": "2019-11-23T02:49:08.305906Z",
     "start_time": "2019-11-23T02:49:07.511281Z"
    }
   },
   "outputs": [],
   "source": [
    "with open(file=\"data/indie_audio_features.json\", mode=\"w\") as f:\n",
    "    f.write(json.dumps(obj=sp.audio_features(indie.track_ids), indent=4, sort_keys=True))\n",
    "    \n",
    "with open(file=\"data/rossa_audio_features.json\", mode=\"w\") as f:\n",
    "    f.write(json.dumps(obj=sp.audio_features(rossa.track_ids), indent=4, sort_keys=True))"
   ]
  }
 ],
 "metadata": {
  "kernelspec": {
   "display_name": "Python 3",
   "language": "python",
   "name": "python3"
  },
  "language_info": {
   "codemirror_mode": {
    "name": "ipython",
    "version": 3
   },
   "file_extension": ".py",
   "mimetype": "text/x-python",
   "name": "python",
   "nbconvert_exporter": "python",
   "pygments_lexer": "ipython3",
   "version": "3.7.3"
  },
  "varInspector": {
   "cols": {
    "lenName": 16,
    "lenType": 16,
    "lenVar": 40
   },
   "kernels_config": {
    "python": {
     "delete_cmd_postfix": "",
     "delete_cmd_prefix": "del ",
     "library": "var_list.py",
     "varRefreshCmd": "print(var_dic_list())"
    },
    "r": {
     "delete_cmd_postfix": ") ",
     "delete_cmd_prefix": "rm(",
     "library": "var_list.r",
     "varRefreshCmd": "cat(var_dic_list()) "
    }
   },
   "types_to_exclude": [
    "module",
    "function",
    "builtin_function_or_method",
    "instance",
    "_Feature"
   ],
   "window_display": false
  }
 },
 "nbformat": 4,
 "nbformat_minor": 2
}
